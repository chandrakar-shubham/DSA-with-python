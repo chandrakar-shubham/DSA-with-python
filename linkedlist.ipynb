{
  "cells": [
    {
      "cell_type": "markdown",
      "metadata": {
        "id": "view-in-github",
        "colab_type": "text"
      },
      "source": [
        "<a href=\"https://colab.research.google.com/github/chandrakar-shubham/DSA-with-python/blob/main/linkedlist.ipynb\" target=\"_parent\"><img src=\"https://colab.research.google.com/assets/colab-badge.svg\" alt=\"Open In Colab\"/></a>"
      ]
    },
    {
      "cell_type": "markdown",
      "source": [
        "#Singly linked list \n",
        "\n",
        "https://www.youtube.com/watch?v=YmcQXtTTaIw"
      ],
      "metadata": {
        "id": "XUH9s_40EF91"
      }
    },
    {
      "cell_type": "code",
      "source": [
        "class node:\n",
        "  \n",
        "  def __init__(self,data):\n",
        "    self.data = data\n",
        "    self.next = None\n",
        "\n",
        "class singlelinkedlist:\n",
        "  def __init__(self):\n",
        "    self.head = None\n",
        "\n",
        "  def display(self):\n",
        "    if self.head == None:\n",
        "      print(\"Linked List is empty\")\n",
        "    else:\n",
        "      temp = self.head\n",
        "      while temp:\n",
        "        print(temp.data,\"--->\",end =' ')\n",
        "        temp = temp.next\n",
        "  \n",
        "  def insert_begin(self,data):\n",
        "    newnode = node(data)\n",
        "    newnode.next = self.head\n",
        "    self.head = newnode\n",
        "\n",
        "  def insert_end(self,data):\n",
        "    endnode = node(data)\n",
        "    temp = self.head\n",
        "    while temp.next:\n",
        "      temp = temp.next\n",
        "    temp.next = endnode\n",
        "  \n",
        "  def insert_position(self,pos,data):\n",
        "    insnode = node(data)\n",
        "    temp = self.head\n",
        "\n",
        "    for i in range(pos-1):\n",
        "      temp =temp.next\n",
        "\n",
        "    insnode.next = temp.next\n",
        "    temp.next = insnode \n",
        "  \n",
        "  def del_big(self):\n",
        "    temp = self.head\n",
        "    self.head = temp.next\n",
        "    temp.next = None\n",
        "\n",
        "  def del_end(self):\n",
        "    prev = self.head\n",
        "    temp = prev.next\n",
        "\n",
        "    while temp.next is not None:\n",
        "      temp = temp.next\n",
        "      prev = prev.next\n",
        "    \n",
        "    prev.next = None\n",
        "  \n",
        "  def del_pos(self,pos):\n",
        "    prev= self.head\n",
        "    temp = prev.next\n",
        "    \n",
        "    for i in range(1,pos-1):\n",
        "      temp = temp.next\n",
        "      prev = prev.next\n",
        "\n",
        "    prev.next = temp.next"
      ],
      "metadata": {
        "id": "OYLbIdgFCzXO"
      },
      "execution_count": null,
      "outputs": []
    },
    {
      "cell_type": "code",
      "source": [
        "L = singlelinkedlist()\n",
        "n = node(10)\n",
        "L.head = n\n",
        "n1 = node(20)\n",
        "n.next = n1\n",
        "n2 = node(30)\n",
        "n1.next = n2\n",
        "n3 = node(40)\n",
        "n2.next = n3\n",
        "n4 = node(50)\n",
        "n3.next = n4\n",
        "n5 = node(60)\n",
        "n4.next = n5"
      ],
      "metadata": {
        "id": "R3isOa2ANgkS"
      },
      "execution_count": null,
      "outputs": []
    },
    {
      "cell_type": "code",
      "source": [
        "L.display()"
      ],
      "metadata": {
        "colab": {
          "base_uri": "https://localhost:8080/"
        },
        "id": "cWQEnONuNnxh",
        "outputId": "75b4d0a1-088f-405a-d180-f87d235c3512"
      },
      "execution_count": null,
      "outputs": [
        {
          "output_type": "stream",
          "name": "stdout",
          "text": [
            "10 ---> 20 ---> 30 ---> 40 ---> 50 ---> 60 ---> "
          ]
        }
      ]
    },
    {
      "cell_type": "code",
      "source": [
        "L.insert_begin(5)"
      ],
      "metadata": {
        "id": "Ii0KsNZcdvOL"
      },
      "execution_count": null,
      "outputs": []
    },
    {
      "cell_type": "code",
      "source": [
        "L.display()"
      ],
      "metadata": {
        "colab": {
          "base_uri": "https://localhost:8080/"
        },
        "id": "yg5XO4ADd1Vm",
        "outputId": "92ebc870-801d-42b0-dd82-c0d2209821cc"
      },
      "execution_count": null,
      "outputs": [
        {
          "output_type": "stream",
          "name": "stdout",
          "text": [
            "5 ---> 10 ---> 20 ---> 30 ---> 40 ---> 50 ---> 60 ---> "
          ]
        }
      ]
    },
    {
      "cell_type": "code",
      "source": [
        "L.insert_begin(3)"
      ],
      "metadata": {
        "id": "2u35bY5geCcj"
      },
      "execution_count": null,
      "outputs": []
    },
    {
      "cell_type": "code",
      "source": [
        "L.display()"
      ],
      "metadata": {
        "colab": {
          "base_uri": "https://localhost:8080/"
        },
        "id": "EY71UhLBeFDc",
        "outputId": "dd074a20-e269-45be-9395-a1d3143b5fa0"
      },
      "execution_count": null,
      "outputs": [
        {
          "output_type": "stream",
          "name": "stdout",
          "text": [
            "3 ---> 5 ---> 10 ---> 20 ---> 30 ---> 40 ---> 50 ---> 60 ---> "
          ]
        }
      ]
    },
    {
      "cell_type": "code",
      "source": [
        "L.insert_end(15)"
      ],
      "metadata": {
        "id": "q51xtrxLeMmP"
      },
      "execution_count": null,
      "outputs": []
    },
    {
      "cell_type": "code",
      "source": [
        "L.display()"
      ],
      "metadata": {
        "colab": {
          "base_uri": "https://localhost:8080/"
        },
        "id": "6ReDv-07fJB4",
        "outputId": "d6207a5f-e129-430d-94c4-afb411245952"
      },
      "execution_count": null,
      "outputs": [
        {
          "output_type": "stream",
          "name": "stdout",
          "text": [
            "3 ---> 5 ---> 10 ---> 20 ---> 30 ---> 40 ---> 50 ---> 60 ---> 15 ---> "
          ]
        }
      ]
    },
    {
      "cell_type": "code",
      "source": [
        "L.insert_position(4,25)"
      ],
      "metadata": {
        "id": "ZolAj_XCgK0k"
      },
      "execution_count": null,
      "outputs": []
    },
    {
      "cell_type": "code",
      "source": [
        "L.display()"
      ],
      "metadata": {
        "colab": {
          "base_uri": "https://localhost:8080/"
        },
        "id": "KrbHjE6hAjuq",
        "outputId": "9e43c928-f6c5-4334-a6ca-d706c9479cc7"
      },
      "execution_count": null,
      "outputs": [
        {
          "output_type": "stream",
          "name": "stdout",
          "text": [
            "3 ---> 5 ---> 10 ---> 20 ---> 25 ---> 30 ---> 40 ---> 50 ---> 60 ---> 15 ---> "
          ]
        }
      ]
    },
    {
      "cell_type": "code",
      "source": [
        "#L.del_big()"
      ],
      "metadata": {
        "id": "9KGjkfXYHW1X"
      },
      "execution_count": null,
      "outputs": []
    },
    {
      "cell_type": "code",
      "source": [
        "L.display()"
      ],
      "metadata": {
        "colab": {
          "base_uri": "https://localhost:8080/"
        },
        "id": "d3PqNw_GHdFV",
        "outputId": "b16970a2-19ca-444c-f04f-1d178f98c0cf"
      },
      "execution_count": null,
      "outputs": [
        {
          "output_type": "stream",
          "name": "stdout",
          "text": [
            "3 ---> 5 ---> 10 ---> 20 ---> 25 ---> 30 ---> 40 ---> 50 ---> 60 ---> 15 ---> "
          ]
        }
      ]
    },
    {
      "cell_type": "code",
      "source": [
        "#L.del_end()\n",
        "#L.display()"
      ],
      "metadata": {
        "id": "nRdlz49yIU8Q"
      },
      "execution_count": null,
      "outputs": []
    },
    {
      "cell_type": "code",
      "source": [
        "L.del_pos(3)\n",
        "L.display()"
      ],
      "metadata": {
        "colab": {
          "base_uri": "https://localhost:8080/"
        },
        "id": "-8plPenBKpQm",
        "outputId": "3249f368-42cb-4291-c631-d66cd317fe4c"
      },
      "execution_count": null,
      "outputs": [
        {
          "output_type": "stream",
          "name": "stdout",
          "text": [
            "3 ---> 5 ---> 20 ---> 25 ---> 30 ---> 40 ---> 50 ---> 60 ---> 15 ---> "
          ]
        }
      ]
    },
    {
      "cell_type": "markdown",
      "source": [
        "#Test"
      ],
      "metadata": {
        "id": "pWHxpN40aDjS"
      }
    },
    {
      "cell_type": "code",
      "source": [
        "class node:\n",
        "  \n",
        "  def __init__(self,data):\n",
        "    self.data = data\n",
        "    self.next = None\n",
        "\n",
        "class singlelinkedlist:\n",
        "  def __init__(self):\n",
        "    self.head = None\n",
        "\n",
        "  def display(self):\n",
        "    if self.head == None:\n",
        "      print(\"Linked List is empty\")\n",
        "    else:\n",
        "      temp = self.head\n",
        "      while temp:\n",
        "        print(temp.data,\"--->\",end =' ')\n",
        "        temp = temp.next\n",
        "  \n",
        "  def insert_begin(self,data):\n",
        "    newnode = node(data)\n",
        "    newnode.next = self.head\n",
        "    self.head = newnode\n",
        "\n",
        "  def insert_end(self,data):\n",
        "    endnode = node(data)\n",
        "    temp = self.head\n",
        "    while temp.next:\n",
        "      temp = temp.next\n",
        "    temp.next = endnode\n",
        "  \n",
        "  def insert_position(self,pos,data):\n",
        "    insnode = node(data)\n",
        "    temp = self.head\n",
        "\n",
        "    for i in range(pos-1):\n",
        "      temp =temp.next\n",
        "\n",
        "    insnode.next = temp.next\n",
        "    temp.next = insnode \n",
        "  \n",
        "  def del_big(self):\n",
        "    temp = self.head\n",
        "    self.head = temp.next\n",
        "    temp.next = None\n",
        "\n",
        "  def del_end(self):\n",
        "    prev = self.head\n",
        "    temp = prev.next\n",
        "\n",
        "    while temp.next is not None:\n",
        "      temp = temp.next\n",
        "      prev = prev.next\n",
        "    \n",
        "    prev.next = None\n",
        "  \n",
        "  def del_pos(self,pos):\n",
        "    prev= self.head\n",
        "    temp = prev.next\n",
        "    \n",
        "    for i in range(1,pos-1):\n",
        "      temp = temp.next\n",
        "      prev = prev.next\n",
        "\n",
        "    prev.next = temp.next\n",
        "\n",
        "  def count_node(self):\n",
        "    temp = self.head\n",
        "\n",
        "    count = 0\n",
        "    while temp:\n",
        "      temp = temp.next\n",
        "      count = count + 1\n",
        "    return count\n",
        "\n",
        "  def rev_lst(self):\n",
        "    prev = None\n",
        "    curr = self.head\n",
        "\n",
        "    while curr:\n",
        "      next = curr.next\n",
        "      curr.next = prev\n",
        "      prev = curr\n",
        "      curr = next\n",
        "\n",
        "    self.head = prev\n",
        "  \n",
        "  \n",
        "  "
      ],
      "metadata": {
        "id": "l2Y8h7x3ViSW"
      },
      "execution_count": null,
      "outputs": []
    },
    {
      "cell_type": "code",
      "source": [
        "M = singlelinkedlist()"
      ],
      "metadata": {
        "id": "r0DZS7kXMxI6"
      },
      "execution_count": null,
      "outputs": []
    },
    {
      "cell_type": "code",
      "source": [
        "m1 = node(1)\n",
        "M.head = m1\n",
        "m2 = node(2)\n",
        "m1.next = m2\n",
        "m3 = node(3)\n",
        "m2.next = m3\n",
        "m4 = node(4)\n",
        "m3.next = m4\n",
        "m5 = node(5)\n",
        "m4.next = m5\n"
      ],
      "metadata": {
        "id": "pXj7bZb7NBcW"
      },
      "execution_count": null,
      "outputs": []
    },
    {
      "cell_type": "code",
      "source": [
        "M.display()"
      ],
      "metadata": {
        "colab": {
          "base_uri": "https://localhost:8080/"
        },
        "id": "1DKUuBsINqQ4",
        "outputId": "279c9a73-33f0-415e-e33b-30e2b3491fe0"
      },
      "execution_count": null,
      "outputs": [
        {
          "output_type": "stream",
          "name": "stdout",
          "text": [
            "1 ---> 2 ---> 3 ---> 4 ---> 5 ---> "
          ]
        }
      ]
    },
    {
      "cell_type": "code",
      "source": [
        "M.count_node()"
      ],
      "metadata": {
        "colab": {
          "base_uri": "https://localhost:8080/"
        },
        "id": "-xYOT9lGdn1P",
        "outputId": "6f8d16bb-b792-4ede-aa13-99db8c3b42c0"
      },
      "execution_count": null,
      "outputs": [
        {
          "output_type": "execute_result",
          "data": {
            "text/plain": [
              "5"
            ]
          },
          "metadata": {},
          "execution_count": 187
        }
      ]
    },
    {
      "cell_type": "code",
      "source": [
        "M.rev_lst()"
      ],
      "metadata": {
        "id": "nGtCH7F7druX"
      },
      "execution_count": null,
      "outputs": []
    },
    {
      "cell_type": "code",
      "source": [
        "M.display()"
      ],
      "metadata": {
        "colab": {
          "base_uri": "https://localhost:8080/"
        },
        "id": "jhzEiIpRe-ib",
        "outputId": "ca4323a0-626b-4a13-8a39-fa488b305f31"
      },
      "execution_count": null,
      "outputs": [
        {
          "output_type": "stream",
          "name": "stdout",
          "text": [
            "5 ---> 4 ---> 3 ---> 2 ---> 1 ---> "
          ]
        }
      ]
    },
    {
      "cell_type": "code",
      "source": [],
      "metadata": {
        "id": "dowzdLQNfGp_"
      },
      "execution_count": null,
      "outputs": []
    }
  ],
  "metadata": {
    "colab": {
      "provenance": [],
      "authorship_tag": "ABX9TyPf7mGabxxDltRBAFv4jHGa",
      "include_colab_link": true
    },
    "kernelspec": {
      "display_name": "Python 3",
      "name": "python3"
    },
    "language_info": {
      "name": "python"
    }
  },
  "nbformat": 4,
  "nbformat_minor": 0
}