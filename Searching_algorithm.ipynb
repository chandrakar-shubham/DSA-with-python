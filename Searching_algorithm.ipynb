{
  "nbformat": 4,
  "nbformat_minor": 0,
  "metadata": {
    "colab": {
      "provenance": [],
      "authorship_tag": "ABX9TyO1cfh7CnlWiX95pxzluItj",
      "include_colab_link": true
    },
    "kernelspec": {
      "name": "python3",
      "display_name": "Python 3"
    },
    "language_info": {
      "name": "python"
    }
  },
  "cells": [
    {
      "cell_type": "markdown",
      "metadata": {
        "id": "view-in-github",
        "colab_type": "text"
      },
      "source": [
        "<a href=\"https://colab.research.google.com/github/chandrakar-shubham/DSA-with-python/blob/main/Searching_algorithm.ipynb\" target=\"_parent\"><img src=\"https://colab.research.google.com/assets/colab-badge.svg\" alt=\"Open In Colab\"/></a>"
      ]
    },
    {
      "cell_type": "markdown",
      "source": [
        "# Binary Search\n",
        "\n",
        "Method 1: Recurssion"
      ],
      "metadata": {
        "id": "edjj3AfE7Gbr"
      }
    },
    {
      "cell_type": "code",
      "source": [
        "def binary_search(arr,low,high,item):\n",
        "  if low <= high:\n",
        "    #calculate mid\n",
        "    mid = (low + high) //2\n",
        "    \n",
        "    if arr[mid] == item:\n",
        "      #if item is at mid return mid\n",
        "      return mid\n",
        "    \n",
        "    elif arr[mid] > item:\n",
        "      #then high must be reduced by 1 less than mid\n",
        "      return binary_search(arr,low,mid-1,item)\n",
        "\n",
        "    else:\n",
        "      #when mid is smaller than item then low must be 1+ mid\n",
        "      return binary_search(arr,mid+1,high,item)\n",
        "\n",
        "\n",
        "  else:\n",
        "    return -1"
      ],
      "metadata": {
        "id": "LjQwZaZj2F1O"
      },
      "execution_count": null,
      "outputs": []
    },
    {
      "cell_type": "code",
      "source": [
        "arr = [3,5,7,15,17,21,45,51,99,101,102]"
      ],
      "metadata": {
        "id": "X_844un27E6U"
      },
      "execution_count": null,
      "outputs": []
    },
    {
      "cell_type": "code",
      "source": [
        "binary_search(arr,0,len(arr)-1,104)"
      ],
      "metadata": {
        "colab": {
          "base_uri": "https://localhost:8080/"
        },
        "id": "AkBz0lX17XX3",
        "outputId": "b8385d8a-a69b-44e9-adea-5f94c0ec1ce9"
      },
      "execution_count": null,
      "outputs": [
        {
          "output_type": "execute_result",
          "data": {
            "text/plain": [
              "-1"
            ]
          },
          "metadata": {},
          "execution_count": 92
        }
      ]
    },
    {
      "cell_type": "markdown",
      "source": [
        "Debug code"
      ],
      "metadata": {
        "id": "WmXLKVzk-O3B"
      }
    },
    {
      "cell_type": "code",
      "source": [
        "def binary_search(arr,low,high,item):\n",
        "\n",
        "  print(f'low = {low}, high = {high}')\n",
        "  if low <= high:\n",
        "    #calculate mid\n",
        "    mid = (low + high) //2\n",
        "\n",
        "    print(f'mid value = {arr[mid]} , and index = {mid}')\n",
        "    \n",
        "    if arr[mid] == item:\n",
        "      #if item is at mid return mid\n",
        "      return mid\n",
        "    \n",
        "    elif arr[mid] > item:\n",
        "      #then high must be reduced by 1 less than mid\n",
        "      return binary_search(arr,low,mid-1,item)\n",
        "\n",
        "    else:\n",
        "      #when mid is smaller than item then low must be 1+ mid\n",
        "      return binary_search(arr,mid+1,high,item)\n",
        "\n",
        "\n",
        "  else:\n",
        "    return -1"
      ],
      "metadata": {
        "id": "yxBhehSP7nYV"
      },
      "execution_count": null,
      "outputs": []
    },
    {
      "cell_type": "code",
      "source": [
        "arr = [3,5,7,15,17,21,45,51,99,101,102]"
      ],
      "metadata": {
        "id": "WalsDatv9piF"
      },
      "execution_count": null,
      "outputs": []
    },
    {
      "cell_type": "code",
      "source": [
        "binary_search(arr,0,len(arr)-1,102)"
      ],
      "metadata": {
        "colab": {
          "base_uri": "https://localhost:8080/"
        },
        "id": "XusrMOPT9suY",
        "outputId": "6fc794a9-868e-46f4-9b93-1fa27b518eeb"
      },
      "execution_count": null,
      "outputs": [
        {
          "output_type": "stream",
          "name": "stdout",
          "text": [
            "low = 0, high = 10\n",
            "mid value = 21 , and index = 5\n",
            "low = 6, high = 10\n",
            "mid value = 99 , and index = 8\n",
            "low = 9, high = 10\n",
            "mid value = 101 , and index = 9\n",
            "low = 10, high = 10\n",
            "mid value = 102 , and index = 10\n"
          ]
        },
        {
          "output_type": "execute_result",
          "data": {
            "text/plain": [
              "10"
            ]
          },
          "metadata": {},
          "execution_count": 100
        }
      ]
    },
    {
      "cell_type": "markdown",
      "source": [
        "Excercise:\n",
        "\n",
        "1. WAP to detect a function is sorted or not"
      ],
      "metadata": {
        "id": "BOtuwXPr_dBK"
      }
    },
    {
      "cell_type": "code",
      "source": [
        "def is_sorted(arr):\n",
        "\n",
        "  sorted = True\n",
        "\n",
        "  for i in range(len(arr)-1):\n",
        "    print(f'i ={i} prev = {a[i]}, i+1 = {i+1} nxt = {a[i+1]}')\n",
        "    if a[i]> a[i+1]:\n",
        "      \n",
        "      return False\n",
        "  \n",
        "  return sorted\n"
      ],
      "metadata": {
        "id": "nklPwfSm9u3P"
      },
      "execution_count": null,
      "outputs": []
    },
    {
      "cell_type": "code",
      "source": [
        "a = [10,11,13,17,34,45,66]\n",
        "\n",
        "is_sorted(a)"
      ],
      "metadata": {
        "colab": {
          "base_uri": "https://localhost:8080/"
        },
        "id": "NbM9XdzAAUQE",
        "outputId": "ca40fcd8-afd2-455c-db1c-8a48b7ed0fbb"
      },
      "execution_count": null,
      "outputs": [
        {
          "output_type": "stream",
          "name": "stdout",
          "text": [
            "i =0 prev = 10, i+1 = 1 nxt = 11\n",
            "i =1 prev = 11, i+1 = 2 nxt = 13\n",
            "i =2 prev = 13, i+1 = 3 nxt = 17\n",
            "i =3 prev = 17, i+1 = 4 nxt = 34\n",
            "i =4 prev = 34, i+1 = 5 nxt = 45\n",
            "i =5 prev = 45, i+1 = 6 nxt = 66\n"
          ]
        },
        {
          "output_type": "execute_result",
          "data": {
            "text/plain": [
              "True"
            ]
          },
          "metadata": {},
          "execution_count": 113
        }
      ]
    },
    {
      "cell_type": "markdown",
      "source": [
        "Q. WAP to find sqrt(x)"
      ],
      "metadata": {
        "id": "uCJD1dknDNA5"
      }
    },
    {
      "cell_type": "code",
      "source": [
        "def mySqrt(x):\n",
        "  if x == 0:\n",
        "    return 0\n",
        "  \n",
        "  low,high = 1,x\n",
        "  \n",
        "  while low <= high:\n",
        "    mid = (low + high) //2\n",
        "    print(f'low ={low} mid ={mid} high ={high}')\n",
        "    \n",
        "    if mid == x // mid:\n",
        "      print(f'check square = x//mid = {x//mid} mid ={mid}')\n",
        "      return mid\n",
        "    elif mid > x //mid:\n",
        "      print(f'mid > {x//mid} mid ={mid}')\n",
        "      high = mid -1\n",
        "      print(f'high update = {high}')\n",
        "    else:\n",
        "      print(f'mid <  {x//mid} mid ={mid}')\n",
        "      low = mid + 1\n",
        "      print(f'low update = {low}')\n",
        "  \n",
        "  print(f'high update = {high}')\n",
        "  return high"
      ],
      "metadata": {
        "id": "Uy4XybmlBQsO"
      },
      "execution_count": null,
      "outputs": []
    },
    {
      "cell_type": "code",
      "source": [
        "mySqrt(4)"
      ],
      "metadata": {
        "colab": {
          "base_uri": "https://localhost:8080/"
        },
        "id": "JfhmB3hsEV2d",
        "outputId": "bbfdc19a-f55a-48c4-b259-d484c2683632"
      },
      "execution_count": null,
      "outputs": [
        {
          "output_type": "stream",
          "name": "stdout",
          "text": [
            "low =1 mid =2 high =4\n",
            "check square = x//mid = 2 mid =2\n"
          ]
        },
        {
          "output_type": "execute_result",
          "data": {
            "text/plain": [
              "2"
            ]
          },
          "metadata": {},
          "execution_count": 120
        }
      ]
    },
    {
      "cell_type": "code",
      "source": [
        "mySqrt(8)"
      ],
      "metadata": {
        "colab": {
          "base_uri": "https://localhost:8080/"
        },
        "id": "LAkXR-iIEaxv",
        "outputId": "c7bacb1a-e576-468f-b7bd-442ca50b1b6b"
      },
      "execution_count": null,
      "outputs": [
        {
          "output_type": "stream",
          "name": "stdout",
          "text": [
            "low =1 mid =4 high =8\n",
            "mid > 2 mid =4\n",
            "high update = 3\n",
            "low =1 mid =2 high =3\n",
            "mid <  4 mid =2\n",
            "low update = 3\n",
            "low =3 mid =3 high =3\n",
            "mid > 2 mid =3\n",
            "high update = 2\n",
            "high update = 2\n"
          ]
        },
        {
          "output_type": "execute_result",
          "data": {
            "text/plain": [
              "2"
            ]
          },
          "metadata": {},
          "execution_count": 122
        }
      ]
    },
    {
      "cell_type": "code",
      "source": [],
      "metadata": {
        "id": "Ra1GDiqNEiPl"
      },
      "execution_count": null,
      "outputs": []
    }
  ]
}